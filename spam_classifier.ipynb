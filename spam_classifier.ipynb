{
 "cells": [
  {
   "cell_type": "code",
   "execution_count": 2,
   "id": "2caff915-e69b-4553-acd1-08dfeee038be",
   "metadata": {},
   "outputs": [],
   "source": [
    "import pandas as pd\n",
    "\n",
    "data = pd.read_csv(\"spam.csv\")\n"
   ]
  },
  {
   "cell_type": "code",
   "execution_count": 3,
   "id": "af88257d-88a7-4faf-b00f-a3851ab7bd1e",
   "metadata": {},
   "outputs": [],
   "source": [
    "data = pd.read_csv(r\"E:\\Bhangra annual function\\task\\task4\\spam.csv\")\n"
   ]
  },
  {
   "cell_type": "code",
   "execution_count": 5,
   "id": "3d04c8a4-2db4-49ac-9b3f-32f95c760a5c",
   "metadata": {},
   "outputs": [
    {
     "data": {
      "text/plain": [
       "label\n",
       "Hi there                                                            1\n",
       "Congratulations! You've won a free ticket to Bahamas. Reply now!    1\n",
       "Are we still meeting at 5?                                          1\n",
       "You’ve been selected for a cash prize. Call 123456789 now!          1\n",
       "I’ll call you later.                                                1\n",
       "URGENT! Your account has been compromised. Verify now.              1\n",
       "Can you send me the notes?                                          1\n",
       "WINNER!! Claim your free iPhone today. Click here!                  1\n",
       "Happy birthday! Enjoy your day.                                     1\n",
       "This is not a drill! You've been chosen. Reply to claim reward.     1\n",
       "Name: count, dtype: int64"
      ]
     },
     "execution_count": 5,
     "metadata": {},
     "output_type": "execute_result"
    }
   ],
   "source": [
    "data.isnull().sum()\n",
    "data['label'].value_counts()\n"
   ]
  },
  {
   "cell_type": "code",
   "execution_count": 6,
   "id": "1b0f5813-4ca3-437b-b7d6-a5612a54cbf4",
   "metadata": {},
   "outputs": [
    {
     "data": {
      "text/html": [
       "<div>\n",
       "<style scoped>\n",
       "    .dataframe tbody tr th:only-of-type {\n",
       "        vertical-align: middle;\n",
       "    }\n",
       "\n",
       "    .dataframe tbody tr th {\n",
       "        vertical-align: top;\n",
       "    }\n",
       "\n",
       "    .dataframe thead th {\n",
       "        text-align: right;\n",
       "    }\n",
       "</style>\n",
       "<table border=\"1\" class=\"dataframe\">\n",
       "  <thead>\n",
       "    <tr style=\"text-align: right;\">\n",
       "      <th></th>\n",
       "      <th>label</th>\n",
       "      <th>message</th>\n",
       "    </tr>\n",
       "  </thead>\n",
       "  <tbody>\n",
       "    <tr>\n",
       "      <th>ham</th>\n",
       "      <td>Hi there</td>\n",
       "      <td>how are you?</td>\n",
       "    </tr>\n",
       "    <tr>\n",
       "      <th>spam</th>\n",
       "      <td>Congratulations! You've won a free ticket to B...</td>\n",
       "      <td>NaN</td>\n",
       "    </tr>\n",
       "    <tr>\n",
       "      <th>ham</th>\n",
       "      <td>Are we still meeting at 5?</td>\n",
       "      <td>NaN</td>\n",
       "    </tr>\n",
       "    <tr>\n",
       "      <th>spam</th>\n",
       "      <td>You’ve been selected for a cash prize. Call 12...</td>\n",
       "      <td>NaN</td>\n",
       "    </tr>\n",
       "    <tr>\n",
       "      <th>ham</th>\n",
       "      <td>I’ll call you later.</td>\n",
       "      <td>NaN</td>\n",
       "    </tr>\n",
       "  </tbody>\n",
       "</table>\n",
       "</div>"
      ],
      "text/plain": [
       "                                                  label        message\n",
       "ham                                            Hi there   how are you?\n",
       "spam  Congratulations! You've won a free ticket to B...            NaN\n",
       "ham                          Are we still meeting at 5?            NaN\n",
       "spam  You’ve been selected for a cash prize. Call 12...            NaN\n",
       "ham                                I’ll call you later.            NaN"
      ]
     },
     "execution_count": 6,
     "metadata": {},
     "output_type": "execute_result"
    }
   ],
   "source": [
    "import pandas as pd\n",
    "\n",
    "# Load CSV\n",
    "data = pd.read_csv(\"spam.csv\")\n",
    "\n",
    "# Keep only useful columns\n",
    "data = data[['label', 'message']]\n",
    "\n",
    "# Display first few rows\n",
    "data.head()\n"
   ]
  },
  {
   "cell_type": "code",
   "execution_count": 9,
   "id": "5ceef935-998d-4feb-8c30-5be6f3cf6844",
   "metadata": {},
   "outputs": [],
   "source": [
    "# Drop rows with NaN values in 'message' column\n",
    "data = data.dropna(subset=['message'])\n"
   ]
  },
  {
   "cell_type": "code",
   "execution_count": 11,
   "id": "7ba9e6a7-e36d-42bc-b368-04dac51f46a5",
   "metadata": {},
   "outputs": [
    {
     "name": "stdout",
     "output_type": "stream",
     "text": [
      "(1, 2)\n"
     ]
    }
   ],
   "source": [
    "print(data.shape)\n"
   ]
  },
  {
   "cell_type": "code",
   "execution_count": 16,
   "id": "bab2a4d0-93f5-482a-b4b2-69366f13763e",
   "metadata": {},
   "outputs": [
    {
     "name": "stdout",
     "output_type": "stream",
     "text": [
      "Index(['label', 'message'], dtype='object')\n"
     ]
    }
   ],
   "source": [
    "print(data.columns)\n"
   ]
  },
  {
   "cell_type": "code",
   "execution_count": 17,
   "id": "9073dd53-40ab-434a-8e46-991d71ca8838",
   "metadata": {},
   "outputs": [],
   "source": [
    "import pandas as pd\n",
    "\n",
    "# Load data\n",
    "data = pd.read_csv('spam.csv')\n",
    "\n",
    "# Drop missing rows (if any)\n",
    "data = data.dropna()\n",
    "\n",
    "# Strip extra spaces\n",
    "data['label'] = data['label'].str.strip()\n",
    "data['message'] = data['message'].str.strip()\n"
   ]
  },
  {
   "cell_type": "code",
   "execution_count": 18,
   "id": "0589da99-e0a4-44c9-92fa-e188c17ba21a",
   "metadata": {},
   "outputs": [],
   "source": [
    "data['label'] = data['label'].map({'ham': 0, 'spam': 1})\n"
   ]
  },
  {
   "cell_type": "code",
   "execution_count": 20,
   "id": "5de4fe38-7879-43a1-b1dd-cfb33ab6d03f",
   "metadata": {},
   "outputs": [
    {
     "name": "stdout",
     "output_type": "stream",
     "text": [
      "1\n"
     ]
    }
   ],
   "source": [
    "print(len(data))\n"
   ]
  },
  {
   "cell_type": "code",
   "execution_count": 21,
   "id": "9045c212-b019-4dcb-9107-83d73dda770f",
   "metadata": {},
   "outputs": [
    {
     "name": "stdout",
     "output_type": "stream",
     "text": [
      "     label       message\n",
      "ham    NaN  how are you?\n"
     ]
    }
   ],
   "source": [
    "print(data.head(10))\n"
   ]
  },
  {
   "cell_type": "code",
   "execution_count": 22,
   "id": "d02b8b4b-13a8-4b0d-96e3-e44d09e2a136",
   "metadata": {},
   "outputs": [],
   "source": [
    "data = data.dropna(subset=['label', 'message'])\n"
   ]
  },
  {
   "cell_type": "code",
   "execution_count": 23,
   "id": "5bff9237-22cd-41ee-acef-1c97546edea6",
   "metadata": {},
   "outputs": [
    {
     "name": "stdout",
     "output_type": "stream",
     "text": [
      "(0, 2)\n"
     ]
    }
   ],
   "source": [
    "print(data.shape)\n"
   ]
  },
  {
   "cell_type": "code",
   "execution_count": 24,
   "id": "21adca8d-dea4-4453-b0b6-d81450fe2516",
   "metadata": {},
   "outputs": [],
   "source": [
    "import pandas as pd\n",
    "\n",
    "# Sample SMS spam data\n",
    "data = pd.DataFrame({\n",
    "    'label': [\n",
    "        'ham', 'spam', 'ham', 'spam', 'ham',\n",
    "        'spam', 'ham', 'spam', 'ham', 'spam'\n",
    "    ],\n",
    "    'message': [\n",
    "        \"Hi there how are you?\",\n",
    "        \"Congratulations! You've won a free ticket to Bahamas. Reply now!\",\n",
    "        \"Are we still meeting at 5?\",\n",
    "        \"You’ve been selected for a cash prize. Call 123456789 now!\",\n",
    "        \"I’ll call you later.\",\n",
    "        \"URGENT! Your account has been compromised. Verify now.\",\n",
    "        \"Can you send me the notes?\",\n",
    "        \"WINNER!! Claim your free iPhone today. Click here!\",\n",
    "        \"Happy birthday! Enjoy your day.\",\n",
    "        \"This is not a drill! You've been chosen. Reply to claim reward.\"\n",
    "    ]\n",
    "})\n"
   ]
  },
  {
   "cell_type": "code",
   "execution_count": 25,
   "id": "9534cb22-1f49-4f18-a49b-3e951dfed8a8",
   "metadata": {},
   "outputs": [
    {
     "name": "stdout",
     "output_type": "stream",
     "text": [
      "Training and test data processed successfully.\n"
     ]
    }
   ],
   "source": [
    "from sklearn.model_selection import train_test_split\n",
    "from sklearn.feature_extraction.text import CountVectorizer\n",
    "\n",
    "# Split data\n",
    "X_train, X_test, y_train, y_test = train_test_split(data['message'], data['label'], test_size=0.2, random_state=0)\n",
    "\n",
    "# Convert text to features\n",
    "cv = CountVectorizer()\n",
    "X_train_counts = cv.fit_transform(X_train)\n",
    "X_test_counts = cv.transform(X_test)\n",
    "\n",
    "print(\"Training and test data processed successfully.\")\n"
   ]
  },
  {
   "cell_type": "code",
   "execution_count": 27,
   "id": "716d38a9-f077-4a65-b9b8-905b1e75baa4",
   "metadata": {},
   "outputs": [
    {
     "name": "stdout",
     "output_type": "stream",
     "text": [
      "Accuracy: 0.5\n",
      "\n",
      "Classification Report:\n",
      "               precision    recall  f1-score   support\n",
      "\n",
      "         ham       1.00      0.50      0.67         2\n",
      "        spam       0.00      0.00      0.00         0\n",
      "\n",
      "    accuracy                           0.50         2\n",
      "   macro avg       0.50      0.25      0.33         2\n",
      "weighted avg       1.00      0.50      0.67         2\n",
      "\n"
     ]
    },
    {
     "name": "stderr",
     "output_type": "stream",
     "text": [
      "C:\\Users\\Dell\\AppData\\Local\\Programs\\Python\\Python312\\Lib\\site-packages\\sklearn\\metrics\\_classification.py:1731: UndefinedMetricWarning: Recall is ill-defined and being set to 0.0 in labels with no true samples. Use `zero_division` parameter to control this behavior.\n",
      "  _warn_prf(average, modifier, f\"{metric.capitalize()} is\", result.shape[0])\n",
      "C:\\Users\\Dell\\AppData\\Local\\Programs\\Python\\Python312\\Lib\\site-packages\\sklearn\\metrics\\_classification.py:1731: UndefinedMetricWarning: Recall is ill-defined and being set to 0.0 in labels with no true samples. Use `zero_division` parameter to control this behavior.\n",
      "  _warn_prf(average, modifier, f\"{metric.capitalize()} is\", result.shape[0])\n",
      "C:\\Users\\Dell\\AppData\\Local\\Programs\\Python\\Python312\\Lib\\site-packages\\sklearn\\metrics\\_classification.py:1731: UndefinedMetricWarning: Recall is ill-defined and being set to 0.0 in labels with no true samples. Use `zero_division` parameter to control this behavior.\n",
      "  _warn_prf(average, modifier, f\"{metric.capitalize()} is\", result.shape[0])\n"
     ]
    }
   ],
   "source": [
    "from sklearn.naive_bayes import MultinomialNB\n",
    "from sklearn.metrics import accuracy_score, classification_report\n",
    "\n",
    "# Model banana\n",
    "model = MultinomialNB()\n",
    "model.fit(X_train_counts, y_train)\n",
    "\n",
    "# Predict karna\n",
    "y_pred = model.predict(X_test_counts)\n",
    "\n",
    "# Accuracy & performance\n",
    "print(\"Accuracy:\", accuracy_score(y_test, y_pred))\n",
    "print(\"\\nClassification Report:\\n\", classification_report(y_test, y_pred))\n"
   ]
  },
  {
   "cell_type": "code",
   "execution_count": null,
   "id": "3ec15dbf-b027-4835-876b-9f8f872e0d1d",
   "metadata": {},
   "outputs": [],
   "source": []
  },
  {
   "cell_type": "code",
   "execution_count": null,
   "id": "63a0ce9a-06c2-43d5-9365-6f971fc78b84",
   "metadata": {},
   "outputs": [],
   "source": []
  },
  {
   "cell_type": "code",
   "execution_count": null,
   "id": "0c3f78ae-176a-4896-8744-3373afcfaf73",
   "metadata": {},
   "outputs": [],
   "source": []
  }
 ],
 "metadata": {
  "kernelspec": {
   "display_name": "Python 3 (ipykernel)",
   "language": "python",
   "name": "python3"
  },
  "language_info": {
   "codemirror_mode": {
    "name": "ipython",
    "version": 3
   },
   "file_extension": ".py",
   "mimetype": "text/x-python",
   "name": "python",
   "nbconvert_exporter": "python",
   "pygments_lexer": "ipython3",
   "version": "3.12.2"
  }
 },
 "nbformat": 4,
 "nbformat_minor": 5
}
